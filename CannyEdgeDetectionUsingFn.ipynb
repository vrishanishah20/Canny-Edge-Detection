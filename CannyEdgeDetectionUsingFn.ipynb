{
 "cells": [
  {
   "cell_type": "code",
   "execution_count": 11,
   "id": "88a75396",
   "metadata": {},
   "outputs": [],
   "source": [
    "import numpy as np\n",
    "import cv2\n",
    "import matplotlib.pyplot as plt"
   ]
  },
  {
   "cell_type": "code",
   "execution_count": 12,
   "id": "89f98371",
   "metadata": {},
   "outputs": [],
   "source": [
    "img = cv2.imread(\"lena.png\")\n",
    "if img is None:\n",
    "    print(\"Error: Image not found.\")\n",
    "img = cv2.cvtColor(img, cv2.COLOR_BGR2GRAY)\n",
    "cv2.imshow(\"original\", img)\n",
    "cv2.waitKey(0)\n",
    "cv2.destroyAllWindows()"
   ]
  },
  {
   "cell_type": "code",
   "execution_count": 13,
   "id": "93d22b94",
   "metadata": {},
   "outputs": [],
   "source": [
    "upper_limit = 12.7\n",
    "lower_limit = 1.27"
   ]
  },
  {
   "cell_type": "code",
   "execution_count": 14,
   "id": "1d62ea70",
   "metadata": {},
   "outputs": [],
   "source": [
    "edge = cv2.Canny(img, upper_limit, lower_limit)"
   ]
  },
  {
   "cell_type": "code",
   "execution_count": 15,
   "id": "fd78c624",
   "metadata": {},
   "outputs": [],
   "source": [
    "cv2.imwrite(\"Cannywithfn.jpg\", edge)\n",
    "cv2.imshow(\"Final Image with Fn\", edge)\n",
    "cv2.waitKey(0)\n",
    "cv2.destroyAllWindows()"
   ]
  }
 ],
 "metadata": {
  "kernelspec": {
   "display_name": "Python 3 (ipykernel)",
   "language": "python",
   "name": "python3"
  },
  "language_info": {
   "codemirror_mode": {
    "name": "ipython",
    "version": 3
   },
   "file_extension": ".py",
   "mimetype": "text/x-python",
   "name": "python",
   "nbconvert_exporter": "python",
   "pygments_lexer": "ipython3",
   "version": "3.11.4"
  }
 },
 "nbformat": 4,
 "nbformat_minor": 5
}
