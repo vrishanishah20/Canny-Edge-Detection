{
 "cells": [
  {
   "cell_type": "code",
   "execution_count": 6,
   "id": "6cc62a36650718b0",
   "metadata": {
    "ExecuteTime": {
     "start_time": "2023-09-08T09:10:16.650947700Z"
    },
    "is_executing": true
   },
   "outputs": [],
   "source": [
    "import numpy as np\n",
    "import cv2\n",
    "import matplotlib.pyplot as plt"
   ]
  },
  {
   "cell_type": "code",
   "execution_count": 10,
   "id": "e2c88b13888b36d0",
   "metadata": {},
   "outputs": [],
   "source": [
    "img = cv2.imread(\"lena.png\")\n",
    "img = cv2.cvtColor(img, cv2.COLOR_BGR2GRAY)\n"
   ]
  },
  {
   "cell_type": "code",
   "execution_count": 11,
   "id": "8a1f8d48",
   "metadata": {},
   "outputs": [],
   "source": [
    "gradient_sobelx = cv2.Sobel(img, -1, 1, 0)\n",
    "gradient_sobely = cv2.Sobel(img, -1, 0, 1)\n",
    "gradient_sobelxy = cv2.addWeighted(gradient_sobelx, 0.5, gradient_sobely, 0.5, 0)"
   ]
  },
  {
   "cell_type": "code",
   "execution_count": 12,
   "id": "569b6e26",
   "metadata": {
    "ExecuteTime": {
     "end_time": "2023-09-08T10:59:51.152091300Z",
     "start_time": "2023-09-08T10:59:51.131083600Z"
    }
   },
   "outputs": [],
   "source": [
    "canny_output = cv2.Canny(img, 80, 120)"
   ]
  },
  {
   "cell_type": "code",
   "execution_count": 13,
   "outputs": [
    {
     "ename": "NameError",
     "evalue": "name 'gradient_sobelxy' is not defined",
     "output_type": "error",
     "traceback": [
      "\u001B[1;31m---------------------------------------------------------------------------\u001B[0m",
      "\u001B[1;31mNameError\u001B[0m                                 Traceback (most recent call last)",
      "Cell \u001B[1;32mIn[13], line 3\u001B[0m\n\u001B[0;32m      1\u001B[0m cv2\u001B[38;5;241m.\u001B[39mimshow(\u001B[38;5;124m'\u001B[39m\u001B[38;5;124mSobel x\u001B[39m\u001B[38;5;124m'\u001B[39m, gradient_sobelx)\n\u001B[0;32m      2\u001B[0m cv2\u001B[38;5;241m.\u001B[39mimshow(\u001B[38;5;124m'\u001B[39m\u001B[38;5;124mSobel y\u001B[39m\u001B[38;5;124m'\u001B[39m, gradient_sobely)\n\u001B[1;32m----> 3\u001B[0m cv2\u001B[38;5;241m.\u001B[39mimshow(\u001B[38;5;124m'\u001B[39m\u001B[38;5;124msobel x+y\u001B[39m\u001B[38;5;124m'\u001B[39m, gradient_sobelxy )\n\u001B[0;32m      4\u001B[0m cv2\u001B[38;5;241m.\u001B[39mimshow(\u001B[38;5;124m'\u001B[39m\u001B[38;5;124mCanny\u001B[39m\u001B[38;5;124m'\u001B[39m, canny_output)\n\u001B[0;32m      5\u001B[0m cv2\u001B[38;5;241m.\u001B[39mwaitKey()\n",
      "\u001B[1;31mNameError\u001B[0m: name 'gradient_sobelxy' is not defined"
     ]
    }
   ],
   "source": [
    "cv2.imshow('Sobel x', gradient_sobelx)\n",
    "cv2.imshow('Sobel y', gradient_sobely)\n",
    "cv2.imshow('sobel x+y', gradient_sobelxy )\n",
    "cv2.imshow('Canny', canny_output)\n",
    "cv2.waitKey()"
   ],
   "metadata": {
    "collapsed": false,
    "ExecuteTime": {
     "end_time": "2023-09-08T11:01:25.807625100Z",
     "start_time": "2023-09-08T11:01:25.545641300Z"
    }
   },
   "id": "5dd6c8d1ca0100c1"
  },
  {
   "cell_type": "code",
   "execution_count": null,
   "outputs": [],
   "source": [],
   "metadata": {
    "collapsed": false
   },
   "id": "74fc3bcab884c1ce"
  }
 ],
 "metadata": {
  "kernelspec": {
   "display_name": "Python 3 (ipykernel)",
   "language": "python",
   "name": "python3"
  },
  "language_info": {
   "codemirror_mode": {
    "name": "ipython",
    "version": 3
   },
   "file_extension": ".py",
   "mimetype": "text/x-python",
   "name": "python",
   "nbconvert_exporter": "python",
   "pygments_lexer": "ipython3",
   "version": "3.11.4"
  }
 },
 "nbformat": 4,
 "nbformat_minor": 5
}
