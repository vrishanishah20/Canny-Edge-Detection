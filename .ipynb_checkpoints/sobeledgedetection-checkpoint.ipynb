{
 "cells": [
  {
   "cell_type": "code",
   "execution_count": null,
   "id": "6cc62a36650718b0",
   "metadata": {
    "ExecuteTime": {
     "start_time": "2023-09-08T09:10:16.650947700Z"
    },
    "is_executing": true
   },
   "outputs": [],
   "source": [
    "import cv2\n",
    "# LOAD AN IMAGE USING 'IMREAD'\n",
    "img = cv2.imread(\"lena.png\")\n",
    "# DISPLAY\n"
   ]
  },
  {
   "cell_type": "code",
   "execution_count": null,
   "id": "e2c88b13888b36d0",
   "metadata": {},
   "outputs": [],
   "source": [
    "cv2.imshow(\"Lena Soderberg\", img)\n",
    "cv2.waitKey(0)"
   ]
  },
  {
   "cell_type": "code",
   "execution_count": null,
   "id": "8a1f8d48",
   "metadata": {},
   "outputs": [],
   "source": []
  }
 ],
 "metadata": {
  "kernelspec": {
   "display_name": "Python 3 (ipykernel)",
   "language": "python",
   "name": "python3"
  },
  "language_info": {
   "codemirror_mode": {
    "name": "ipython",
    "version": 2
   },
   "file_extension": ".py",
   "mimetype": "text/x-python",
   "name": "python",
   "nbconvert_exporter": "python",
   "pygments_lexer": "ipython2",
   "version": "2.7.6"
  }
 },
 "nbformat": 4,
 "nbformat_minor": 5
}
