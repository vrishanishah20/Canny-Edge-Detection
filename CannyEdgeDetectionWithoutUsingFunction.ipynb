{
 "cells": [
  {
   "cell_type": "code",
   "execution_count": null,
   "id": "910e60b5bd67b0fb",
   "metadata": {
    "ExecuteTime": {
     "end_time": "2023-09-13T09:25:56.778937700Z",
     "start_time": "2023-09-13T09:25:56.147220200Z"
    }
   },
   "outputs": [],
   "source": [
    "import numpy as np\n",
    "import cv2\n",
    "import matplotlib.pyplot as plt"
   ]
  },
  {
   "cell_type": "code",
   "execution_count": null,
   "id": "initial_id",
   "metadata": {
    "ExecuteTime": {
     "end_time": "2023-09-13T09:25:56.781922500Z",
     "start_time": "2023-09-13T09:25:56.771910600Z"
    }
   },
   "outputs": [],
   "source": [
    "# img = cv2.imread(\"lena.png\")\n",
    "# img = cv2.cvtColor(img, cv2.COLOR_BGR2GRAY)\n",
    "# #cv2.imshow(\"lena\", img)"
   ]
  },
  {
   "cell_type": "code",
   "execution_count": null,
   "id": "7dac550f1d133ec5",
   "metadata": {
    "ExecuteTime": {
     "end_time": "2023-09-13T09:25:57.316789800Z",
     "start_time": "2023-09-13T09:25:57.298833500Z"
    }
   },
   "outputs": [],
   "source": [
    "def gaussian_kernel(size, sigma=1):\n",
    "    size = int(size) #size taken as 2\n",
    "    x, y = np.mgrid[-size:size+1, -size:size+1] #5*5 kernel from -2 to 2\n",
    "    normal = 1 / (2.0 * np.pi * sigma**2)\n",
    "    g = np.exp(-((x**2 + y**2) / (2.0*sigma**2))) * normal #x is x coordinate, y is y coordinate in mgrid\n",
    "    return g"
   ]
  },
  {
   "cell_type": "code",
   "execution_count": null,
   "id": "fbf731248825c81b",
   "metadata": {
    "ExecuteTime": {
     "end_time": "2023-09-13T09:25:57.978034400Z",
     "start_time": "2023-09-13T09:25:57.954005200Z"
    }
   },
   "outputs": [],
   "source": [
    "#  x, y = np.mgrid[-2:3, -2:3]\n",
    "#  print(x, y)\n",
    "#  normal = 1 / (2.0 * np.pi * 1**2)\n",
    "#  print(normal)\n",
    "#  print(x**2)\n",
    "#  print(y**2)\n",
    "#  print((x**2 + y**2))\n",
    "#  g = np.exp(-((x**2 + y**2) / (2.0*1**2))) * normal\n",
    "#  print(g)"
   ]
  },
  {
   "cell_type": "code",
   "execution_count": null,
   "id": "25369096",
   "metadata": {
    "ExecuteTime": {
     "end_time": "2023-09-13T09:25:58.518995400Z",
     "start_time": "2023-09-13T09:25:58.503520300Z"
    }
   },
   "outputs": [],
   "source": [
    "from scipy import ndimage\n",
    "def sobel_filters(img):\n",
    "    \n",
    "    Kx = np.array([[-1, 0, 1],\n",
    "                   [-2, 0, 2],\n",
    "                   [-1, 0, 1]], np.float32)\n",
    "    Ky = np.array([[ 1,  2,  1],\n",
    "                   [ 0,  0,  0],\n",
    "                   [-1, -2, -1]], np.float32)\n",
    "    img = img.astype(np.float32)\n",
    "    Ix = ndimage.filters.convolve(img, Kx) #weighted sum of Kx kernel and pixel of input image img is stored in Ix\n",
    "    Iy = ndimage.filters.convolve(img, Ky) #weighted sum of Ky kernel and pixel of input image img is stored in Iy\n",
    "\n",
    "    G = np.hypot(Ix, Iy)\n",
    "    theta = np.arctan2(Ix, Iy)\n",
    "    G = (G / G.max()) * 255\n",
    "    \n",
    "    return(G, theta)"
   ]
  },
  {
   "cell_type": "code",
   "execution_count": null,
   "id": "8053c321",
   "metadata": {
    "ExecuteTime": {
     "end_time": "2023-09-13T09:25:59.125789300Z",
     "start_time": "2023-09-13T09:25:59.111474500Z"
    }
   },
   "outputs": [],
   "source": [
    "def non_max_suppression(img, D):\n",
    "    M,N = img.shape\n",
    "    Z = np.zeros((M,N), dtype = np.int8) #Z is output matrix\n",
    "    angle = D*180/np.pi #converting radian to degree\n",
    "    angle[angle < 0]+=180 #checking boolean angle < 0 which returns true or false. If true the line is executed\n",
    "    \n",
    "    for i in range(1, M-1):\n",
    "        for j in range(1, N-1):\n",
    "            try:\n",
    "                q = 200\n",
    "                r = 200\n",
    "                if(0<=angle[i,j]<22.5) or (157.5<=angle[i,j]<180): #angle 0\n",
    "                    q = img[i, j+1]\n",
    "                    r = img[i, j-1]\n",
    "                elif(22.5<=angle[i,j]<67.5): #angle 45\n",
    "                    q = img[i+1, j-1]\n",
    "                    r = img[i-1, j+1]\n",
    "                elif(67.5<=angle[i,j]<112.5): #angle 90\n",
    "                    q = img[i-1, j]\n",
    "                    r = img[i+1, j]\n",
    "                elif(112.5<=angle[i,j]<157.5): #angle 135\n",
    "                    q = img[i-1, j-1]\n",
    "                    r = img[i+1, j+1]\n",
    "                \n",
    "                if(img[i, j]>=q) and (img[i, j]>=r):\n",
    "                    Z[i, j] = img[i, j]\n",
    "                else:\n",
    "                    Z[i, j] = 0\n",
    "            except IndexError as e:\n",
    "                pass\n",
    "    return Z"
   ]
  },
  {
   "cell_type": "code",
   "execution_count": null,
   "id": "99bb5297",
   "metadata": {
    "ExecuteTime": {
     "end_time": "2023-09-13T09:25:59.773711900Z",
     "start_time": "2023-09-13T09:25:59.764110400Z"
    }
   },
   "outputs": [],
   "source": [
    "# def double_threshold(img):\n",
    "# #     img = cv2.add(image, 150)#increasing pixel value by 100\n",
    "#     print(img)\n",
    "#     M,N = img.shape\n",
    "#     print(img.max())\n",
    "#     high_threshold = 100\n",
    "#     low_threshold = high_threshold/4\n",
    "#     print('high threshold', high_threshold)\n",
    "#     print('low threshold', low_threshold)\n",
    "    \n",
    "    \n",
    "#     res = np.zeros((M,N), dtype = np.int8)\n",
    "    \n",
    "#     #values assigned to strong and weak edges when they are identified\n",
    "#     weak = np.int32(65)\n",
    "#     strong = np.int32(255)\n",
    "    \n",
    "#     strong_i, strong_j = np.where(img>=high_threshold)\n",
    "#     zero_i, zero_j = np.where(img<low_threshold)\n",
    "#     weak_i, weak_j = np.where((img>=low_threshold) & (img<high_threshold))\n",
    "#     print(img)\n",
    "        \n",
    "#     res[strong_i, strong_j] = strong\n",
    "#     print(res)\n",
    "#     res[weak_i, weak_j] = weak\n",
    "#     print(res.tolist())\n",
    "#     print(res.max())\n",
    "# #     res[zero_i, zero_j] = 0\n",
    "    \n",
    "#     return(res, strong, weak)\n",
    "     "
   ]
  },
  {
   "cell_type": "code",
   "execution_count": null,
   "id": "e871446f",
   "metadata": {},
   "outputs": [],
   "source": [
    "def double_threshold(img, lowThreshold = 0.01, highThreshold = 0.1):\n",
    "    print(img.max())\n",
    "#     print(img.tolist())\n",
    "#     high_threshold = img.max() * highThreshold\n",
    "#     low_threshold = high_threshold * lowThreshold\n",
    "    high_threshold = img.max() * highThreshold\n",
    "    low_threshold = high_threshold * lowThreshold\n",
    "    \n",
    "    M,N = img.shape\n",
    "    res = np.zeros((M,N), dtype = np.float32)\n",
    "    \n",
    "    weak = np.float32(25)\n",
    "    strong = np.float32(255)\n",
    "    \n",
    "    strong_i, strong_j = np.where(img>=high_threshold)\n",
    "    weak_i, weak_j = np.where((img<high_threshold) & (img>=low_threshold))\n",
    "    zero_i, zero_j = np.where(img>low_threshold)\n",
    "    \n",
    "    res[strong_i, strong_j] = strong\n",
    "    res[weak_i, weak_j] = weak\n",
    "    \n",
    "    return(res, weak, strong)"
   ]
  },
  {
   "cell_type": "code",
   "execution_count": null,
   "id": "1c3a7b36",
   "metadata": {
    "ExecuteTime": {
     "end_time": "2023-09-13T09:26:03.427451300Z",
     "start_time": "2023-09-13T09:26:03.414841200Z"
    }
   },
   "outputs": [],
   "source": [
    "def hysterisis(img, weak, strong):\n",
    "    M,N = img.shape\n",
    "#     print(img.tolist())\n",
    "    print(weak)\n",
    "    print(strong)\n",
    "    for i in range(1, M-1):\n",
    "        for j in range(1, N-1):\n",
    "            if(img[i, j]==weak):\n",
    "                try:\n",
    "                    if((img[i-1, j-1]==strong) or (img[i, j-1]==strong) or (img[i-1, j+1]==strong) or (img[i-1, j]==strong) or \n",
    "                       (img[i, j+1]==strong) or (img[i+1, j-1]== strong) or (img[i+1, j]==strong) or (img[i+1, j+1]==strong)):\n",
    "                        img[i, j]=strong\n",
    "                    else:\n",
    "                        img[i, j]= 0\n",
    "                except IndexError as e:\n",
    "                    pass\n",
    "#     print(img.tolist())\n",
    "    return img\n",
    "                    "
   ]
  },
  {
   "cell_type": "code",
   "execution_count": null,
   "id": "905241e3258487bd",
   "metadata": {
    "ExecuteTime": {
     "end_time": "2023-09-13T09:26:09.746614500Z",
     "start_time": "2023-09-13T09:26:09.742625200Z"
    }
   },
   "outputs": [],
   "source": [
    "img = cv2.imread(\"lena.png\")\n",
    "if img is None:\n",
    "    print(\"Error: Image not found.\")\n",
    "img = cv2.cvtColor(img, cv2.COLOR_BGR2GRAY)\n",
    "cv2.imshow(\"original\", img)\n",
    "cv2.waitKey(0)\n",
    "cv2.destroyAllWindows()"
   ]
  },
  {
   "cell_type": "code",
   "execution_count": null,
   "id": "3dfb29f5",
   "metadata": {},
   "outputs": [],
   "source": [
    "kernel_size = 3\n",
    "sigma = 1\n",
    "kernel = gaussian_kernel(kernel_size, sigma)\n",
    "filtered_image = cv2.filter2D(img, -1, kernel)\n",
    "cv2.imwrite('filtered_image.jpg', filtered_image)\n",
    "cv2.imshow('Filtered Image', filtered_image)\n",
    "cv2.waitKey(0)\n",
    "cv2.destroyAllWindows()"
   ]
  },
  {
   "cell_type": "code",
   "execution_count": null,
   "id": "60e8113c",
   "metadata": {},
   "outputs": [],
   "source": [
    "G, theta = sobel_filters(filtered_image)\n",
    "cv2.imwrite('G_normalized.jpg', G.astype(np.uint8))\n",
    "cv2.imwrite('theta.jpg', theta)\n",
    "cv2.imshow('Gradient Calculation', G.astype(np.uint8))\n",
    "cv2.waitKey(0)\n",
    "cv2.destroyAllWindows()\n",
    "cv2.imshow('Gradient angle', theta)\n",
    "cv2.waitKey(0)\n",
    "cv2.destroyAllWindows()"
   ]
  },
  {
   "cell_type": "code",
   "execution_count": null,
   "id": "b2627b2e",
   "metadata": {},
   "outputs": [],
   "source": [
    "suppressed_image = non_max_suppression(G.astype(np.uint8), theta)\n",
    "cv2.imwrite('Suppressed_Image.jpg', suppressed_image)\n",
    "cv2.imshow('Suppressed Image', suppressed_image)\n",
    "cv2.waitKey(0)\n",
    "cv2.destroyAllWindows()"
   ]
  },
  {
   "cell_type": "code",
   "execution_count": null,
   "id": "040353cd",
   "metadata": {
    "scrolled": false
   },
   "outputs": [],
   "source": [
    "thresholded_image, weak_threshold, strong_threshold = double_threshold(suppressed_image)\n",
    "print(weak_threshold, 'weak  ', strong_threshold, 'strong')\n",
    "cv2.imwrite('Thresholded.jpg', thresholded_image)\n",
    "thresholded_image = thresholded_image.astype(np.float32)\n",
    "cv2.imshow('Thresholded Image', thresholded_image)\n",
    "cv2.waitKey(0)\n",
    "cv2.destroyAllWindows()"
   ]
  },
  {
   "cell_type": "code",
   "execution_count": null,
   "id": "f2a2f912",
   "metadata": {},
   "outputs": [],
   "source": [
    "final_image = hysterisis(thresholded_image, weak_threshold, strong_threshold)\n",
    "cv2.imwrite(\"final_image.jpg\", final_image)\n",
    "final_image = final_image.astype(np.float32)\n",
    "cv2.imshow('Final Image', final_image)\n",
    "cv2.waitKey(0)\n",
    "cv2.destroyAllWindows()"
   ]
  }
 ],
 "metadata": {
  "celltoolbar": "Raw Cell Format",
  "kernelspec": {
   "display_name": "Python 3 (ipykernel)",
   "language": "python",
   "name": "python3"
  },
  "language_info": {
   "codemirror_mode": {
    "name": "ipython",
    "version": 3
   },
   "file_extension": ".py",
   "mimetype": "text/x-python",
   "name": "python",
   "nbconvert_exporter": "python",
   "pygments_lexer": "ipython3",
   "version": "3.11.4"
  }
 },
 "nbformat": 4,
 "nbformat_minor": 5
}
